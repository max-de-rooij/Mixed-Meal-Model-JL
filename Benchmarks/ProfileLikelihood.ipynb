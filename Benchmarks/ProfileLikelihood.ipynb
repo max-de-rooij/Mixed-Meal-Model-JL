{
 "cells": [
  {
   "cell_type": "code",
   "execution_count": 1,
   "metadata": {},
   "outputs": [
    {
     "data": {
      "text/plain": [
       "FitModelLHC (generic function with 1 method)"
      ]
     },
     "metadata": {},
     "output_type": "display_data"
    }
   ],
   "source": [
    "# Base functionality\n",
    "using Plots, Measures, Statistics\n",
    "\n",
    "# ODE Solver\n",
    "using DifferentialEquations\n",
    "\n",
    "include(\"../MixedMealModel.jl\")"
   ]
  },
  {
   "cell_type": "code",
   "execution_count": null,
   "metadata": {},
   "outputs": [],
   "source": [
    "glc, ins, trg, nfa, bwg, time = SampleData()\n",
    "mglc = mean(glc, dims=1)'\n",
    "mins = mean(ins, dims=1)'\n",
    "mtrg = mean(trg, dims=1)'\n",
    "mnfa = mean(nfa, dims=1)'\n",
    "mbwg = mean(bwg);\n",
    "\n",
    "sglc = std(glc, dims=1)'\n",
    "sins = std(ins, dims=1)'\n",
    "strg = std(trg, dims=1)'\n",
    "snfa = std(nfa, dims=1)';"
   ]
  },
  {
   "cell_type": "code",
   "execution_count": null,
   "metadata": {},
   "outputs": [],
   "source": [
    "m, constants, subject = ModelFromData(mglc, mins, mtrg, mnfa, mbwg)\n",
    "loss, simulationfunc = LossFunction(m, mglc, mins, mtrg, mnfa, Int.(time), constants, subject)\n",
    "p_init = [1.35e-2, 3.80e-3, 5.82e-1, 0.00045, 0.0713, 208.88, 0.0163, 0.0119]\n",
    "p_lb = [0.005, 0, 0, 0, 0, 60., 0.005, 0]\n",
    "p_ub = [0.05, 1., 10., 1., 1., 720., 0.1, 1.]\n",
    "println(\"Initial loss for individual mean: $(loss(p_init))\")"
   ]
  },
  {
   "cell_type": "code",
   "execution_count": null,
   "metadata": {},
   "outputs": [],
   "source": [
    "res, obj = FitModelSampledLHC(loss, 100, 5, p_lb, p_ub)"
   ]
  },
  {
   "cell_type": "code",
   "execution_count": null,
   "metadata": {},
   "outputs": [],
   "source": [
    "outputs = simulationfunc(res[argmin(obj),:][1])\n",
    "\n",
    "glucose_data_plot = scatter(time, mglc, title=\"Glucose\", labels=\"Data\", ylabel = \"[Glucose] (mM)\", yerr=sglc, color=RGB(250/255, 86/255, 55/255))\n",
    "plot!(glucose_data_plot, outputs, idxs=2, label=\"Model\",lc=RGB(20/255,55/255,1),linewidth=2)\n",
    "insulin_data_plot = scatter(time, mins, title=\"Insulin\", ylabel = \"[Insulin] uIU/ml\", labels=\"\", yerr=sins, color=RGB(250/255, 86/255, 55/255))\n",
    "plot!(insulin_data_plot, outputs, idxs=4, label=\"\",lc=RGB(20/255,55/255,1),linewidth=2)\n",
    "TG_data_plot = scatter(time, mtrg, title=\"Triglyceride\", ylabel = \"[TG] mM\", labels=\"\", yerr=strg, color=RGB(250/255, 86/255, 55/255))\n",
    "plot!(TG_data_plot, outputs, idxs=13, label=\"\",lc=RGB(20/255,55/255,1),linewidth=2)\n",
    "NEFA_data_plot = scatter(time, mnfa, title=\"NEFA\", ylabel = \"[NEFA] mM\", labels=\"\", yerr=snfa, color=RGB(250/255, 86/255, 55/255))\n",
    "plot!(NEFA_data_plot, outputs, idxs=9, label=\"\",lc=RGB(20/255,55/255,1), linewidth=2)\n",
    "\n",
    "\n",
    "plot(glucose_data_plot, insulin_data_plot, TG_data_plot, NEFA_data_plot,  layout=4, titlefontsize=10, titlefontfamily=\"Helvetica Bold\", fontfamily=\"Helvetica\", \n",
    "titlelocation=:left, size=(400,400), legend=false, grid=:y,\n",
    "left_margin=2mm, bottom_margin=2mm, guidefontfamily=\"Helvetica Bold\", guidefontsize=8)\n",
    "savefig(\"Figures/ParamEstim.svg\")"
   ]
  },
  {
   "attachments": {},
   "cell_type": "markdown",
   "metadata": {},
   "source": [
    "## Profile Likelihood"
   ]
  },
  {
   "cell_type": "code",
   "execution_count": 1,
   "metadata": {},
   "outputs": [
    {
     "data": {
      "text/plain": [
       "8-element Vector{Int64}:\n",
       " 2\n",
       " 3\n",
       " 4\n",
       " 5\n",
       " 6\n",
       " 7\n",
       " 8\n",
       " 9"
      ]
     },
     "metadata": {},
     "output_type": "display_data"
    }
   ],
   "source": [
    "using Distributed; addprocs(8, exeflags=\"--project\")"
   ]
  },
  {
   "cell_type": "code",
   "execution_count": 2,
   "metadata": {},
   "outputs": [],
   "source": [
    "\n",
    "@everywhere begin\n",
    "    # Benchmarking\n",
    "    using BenchmarkTools\n",
    "    using ProfileLikelihoodAnalysis, Optimization, SciMLSensitivity\n",
    "    include(\"../MixedMealModel.jl\")\n",
    "\n",
    "    glc, ins, trg, nfa, bwg, time = SampleData()\n",
    "    mglc = mean(glc, dims=1)'\n",
    "    mins = mean(ins, dims=1)'\n",
    "    mtrg = mean(trg, dims=1)'\n",
    "    mnfa = mean(nfa, dims=1)'\n",
    "    mbwg = mean(bwg);\n",
    "    m, constants, subject = ModelFromData(mglc, mins, mtrg, mnfa, mbwg)\n",
    "    loss, simulationfunc = LossFunction(m, mglc, mins, mtrg, mnfa, Int.(time), constants, subject)\n",
    "\n",
    "    p_pla = [0.01839046060378375, 0.03364049793268846, 2.8509996539094904, 0.0005374326199918778, 0.08093925430063408, 352.4129550717545, 0.012070039791549596, 0.02379300666746938]\n",
    "    p_lb = [0.005, 0, 0, 0, 0, 60., 0.005, 0]\n",
    "    p_ub = [0.05, 1., 10., 1., 1., 720., 0.1, 1.]\n",
    "\n",
    "    p = PLAProblem((x,λ) -> loss(x), p_pla)\n",
    "\n",
    "    function runPLA(param_idx)\n",
    "        PLAcompute(p, param_idx, lb=p_lb, ub=p_ub, sample_size=25, verbose=false)\n",
    "    end\n",
    "end"
   ]
  },
  {
   "cell_type": "code",
   "execution_count": 5,
   "metadata": {},
   "outputs": [
    {
     "data": {
      "text/plain": [
       "runPLA (generic function with 1 method)"
      ]
     },
     "metadata": {},
     "output_type": "display_data"
    }
   ],
   "source": [
    "using ProfileLikelihoodAnalysis, Optimization, SciMLSensitivity\n",
    "include(\"../MixedMealModel.jl\")\n",
    "\n",
    "glc, ins, trg, nfa, bwg, time = SampleData()\n",
    "mglc = mean(glc, dims=1)'\n",
    "mins = mean(ins, dims=1)'\n",
    "mtrg = mean(trg, dims=1)'\n",
    "mnfa = mean(nfa, dims=1)'\n",
    "mbwg = mean(bwg);\n",
    "m, constants, subject = ModelFromData(mglc, mins, mtrg, mnfa, mbwg)\n",
    "loss, simulationfunc = LossFunction(m, mglc, mins, mtrg, mnfa, Int.(time), constants, subject)\n",
    "\n",
    "p_pla = [0.01839046060378375, 0.03364049793268846, 2.8509996539094904, 0.0005374326199918778, 0.08093925430063408, 352.4129550717545, 0.012070039791549596, 0.02379300666746938]\n",
    "p_lb = [0.005, 0, 0, 0, 0, 60., 0.005, 0]\n",
    "p_ub = [0.05, 1., 10., 1., 1., 720., 0.1, 1.]\n",
    "\n",
    "p = PLAProblem((x,λ) -> loss(x), p_pla)\n",
    "\n",
    "function runPLA(param_idx; sample_size=25)\n",
    "    PLAcompute(p, param_idx, lb=p_lb, ub=p_ub, sample_size=sample_size, verbose=false)\n",
    "end"
   ]
  },
  {
   "cell_type": "code",
   "execution_count": 8,
   "metadata": {},
   "outputs": [
    {
     "data": {
      "text/plain": [
       "PLAResult{Float64}([0.01342503624076214, 0.014252606967932409, 0.015080177695102677, 0.015907748422272945, 0.016735319149443213, 0.01756288987661348, 0.01839046060378375, 0.019218031330954018, 0.020045602058124286, 0.020873172785294554, 0.021700743512464822, 0.02252831423963509, 0.02335588496680536, 0.024183455693975626, 0.025011026421145895], [7.813975901395169, 6.651081300828592, 5.769219735313863, 5.130148733027076, 4.702852246524596, 4.461739131539019, 4.385549174334275, 4.455971424226455, 4.6567395925213555, 4.972299838187358, 5.388352260666538, 5.891857142278912, 6.472251949065059, 7.115593902239282, 7.808883494923139], 0.01839046060378375, 4.385549174334275, 2.7326367934996627, (0.01392019322317007, 0.024186549808803946))"
      ]
     },
     "metadata": {},
     "output_type": "display_data"
    }
   ],
   "source": [
    "res = runPLA(1; sample_size=200)"
   ]
  },
  {
   "cell_type": "code",
   "execution_count": 15,
   "metadata": {},
   "outputs": [
    {
     "ename": "UndefVarError",
     "evalue": "UndefVarError: guidefontfamily not defined",
     "output_type": "error",
     "traceback": [
      "UndefVarError: guidefontfamily not defined\n",
      "\n",
      "Stacktrace:\n",
      " [1] top-level scope\n",
      "   @ ~/TUe/Mixed-Meal-Model-JL/Benchmarks/ProfileLikelihood.ipynb:2"
     ]
    }
   ],
   "source": []
  }
 ],
 "metadata": {
  "kernelspec": {
   "display_name": "Julia 1.8.5",
   "language": "julia",
   "name": "julia-1.8"
  },
  "language_info": {
   "file_extension": ".jl",
   "mimetype": "application/julia",
   "name": "julia",
   "version": "1.8.5"
  },
  "orig_nbformat": 4
 },
 "nbformat": 4,
 "nbformat_minor": 2
}
