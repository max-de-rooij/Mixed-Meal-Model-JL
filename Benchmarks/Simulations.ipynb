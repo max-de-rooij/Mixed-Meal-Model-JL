{
 "cells": [
  {
   "attachments": {},
   "cell_type": "markdown",
   "metadata": {},
   "source": [
    "# Benchmarking the Mixed Meal Model in Julia"
   ]
  },
  {
   "cell_type": "code",
   "execution_count": null,
   "metadata": {},
   "outputs": [],
   "source": [
    "# Base functionality\n",
    "using Plots, Measures, Statistics\n",
    "\n",
    "# ODE Solver\n",
    "using DifferentialEquations\n",
    "\n",
    "# Benchmarking\n",
    "using BenchmarkTools\n",
    "\n",
    "include(\"../MixedMealModel.jl\")"
   ]
  },
  {
   "attachments": {},
   "cell_type": "markdown",
   "metadata": {},
   "source": [
    "## Simulation Benchmark\n",
    "Below, we generate one test subject for simulation"
   ]
  },
  {
   "cell_type": "code",
   "execution_count": null,
   "metadata": {},
   "outputs": [],
   "source": [
    "sample_person = (\n",
    "    fasting_glucose = 5.,\n",
    "    fasting_insulin = 18.,\n",
    "    fasting_triglyceride = 1.3,\n",
    "    fasting_NEFA = 0.33,\n",
    "    body_weight = 84.2,\n",
    "    meal_glucose = 75000.,\n",
    "    meal_triglyceride = 60000.\n",
    ")\n",
    "\n",
    "parameters = InitialParameters(sample_person, k1 = 0.0164, k5=0.0564, \n",
    "k6 = 2.7341, k11 = 0.00035, k12 = 0.0822, tau_LPL = 187.88, \n",
    "k14 = 0.0392, k16 = 0.0135)\n",
    "\n",
    "constants = Constants(parameters, sample_person);"
   ]
  },
  {
   "cell_type": "code",
   "execution_count": null,
   "metadata": {},
   "outputs": [],
   "source": [
    "tspan::Tuple{Float64, Float64} = (0., 720.)\n",
    "u0 = InitialValues(sample_person)\n",
    "MealModel! = MixedMealModel(constants, sample_person)\n",
    "System = ODEProblem(MealModel!, u0, tspan, parameters)"
   ]
  },
  {
   "cell_type": "code",
   "execution_count": null,
   "metadata": {},
   "outputs": [],
   "source": [
    "Solution = solve(System);\n",
    "\n",
    "BenchmarkResult = @benchmark solve(System) samples=10_000 seconds=30"
   ]
  },
  {
   "cell_type": "code",
   "execution_count": null,
   "metadata": {},
   "outputs": [],
   "source": [
    "time = tspan[1]:0.01:tspan[2]\n",
    "outputs =  ModelOutput(Solution, parameters, constants, sample_person; time=time);\n",
    "\n",
    "#p_G_gut = plot(time, outputs.gut_glucose[:], title = \"Gut Glucose\", xlabel=\"time (min)\", ylabel=\"Glucose (mmol/l)\")\n",
    "#p_G_liv = plot(time, outputs.hepatic_glucose_flux[:], title=\"Net Hepatic Glucose Flux\", xlabel=\"time (min)\", ylabel=\"Glucose (mmol/l)\")\n",
    "#p_G_tissue = plot(time, outputs.glucose_tissue_uptake[:], title = \"Glucose Uptake into Tissue\", xlabel=\"time (min)\", ylabel=\"Glucose (mmol/l)\")\n",
    "p_G_pl = plot(time, outputs.plasma_glucose[:], title = \"Plasma Glucose\", xlabel=\"time (min)\", ylabel=\"Glucose (mmol/l)\")\n",
    "p_I_pl = plot(time, outputs.plasma_insulin[:], title = \"Plasma Insulin\", xlabel=\"time (min)\", ylabel=\"Insulin (uIU/ml)\")\n",
    "#p_TG_gut = plot(time, outputs.gut_TG[:], title=\"TG from gut\", xlabel=\"time (min)\", ylabel=\"TG (mmol/l)\")\n",
    "#p_TG_liv = plot(time, outputs.liver_TG[:], title=\"TG from liver (VLDL)\", xlabel=\"time (min)\", ylabel=\"TG (mmol/l)\")\n",
    "p_TG_pl = plot(time, outputs.plasma_TG[:], title=\"Plasma TG\", xlabel=\"time (min)\", ylabel=\"TG (mmol/l)\")\n",
    "p_NEFA_pl = plot(time, outputs.plasma_NEFA[:], title=\"Plasma NEFA\", xlabel=\"time (min)\", ylabel=\"NEFA (mmol/l)\")\n",
    "\n",
    "plot(p_G_pl, p_I_pl, p_TG_pl, p_NEFA_pl, \n",
    "        layout=4, titlefontsize=10, titlefontfamily=\"Helvetica Bold\", fontfamily=\"Helvetica\", \n",
    "        titlelocation=:left, size=(400,400), legend=false, linewidth=2, grid=:y,\n",
    "        left_margin=2mm, bottom_margin=2mm, guidefontfamily=\"Helvetica Bold\", guidefontsize=8, lc=RGB(20/255,55/255,1))\n",
    "\n",
    "savefig(\"Figures/Simulation.svg\")"
   ]
  },
  {
   "attachments": {},
   "cell_type": "markdown",
   "metadata": {},
   "source": [
    "## Performing Parameter Estimation"
   ]
  },
  {
   "cell_type": "code",
   "execution_count": null,
   "metadata": {},
   "outputs": [],
   "source": [
    "glc, ins, trg, nfa, bwg, time = SampleData()\n",
    "individual = 1\n",
    "\n",
    "m, constants, subject = ModelFromData(glc[individual,:], ins[individual,:], trg[individual,:], nfa[individual,:], bwg[individual])\n",
    "loss, simulationfunc = LossFunction(m, glc[individual,:], ins[individual,:], trg[individual,:], nfa[individual,:], Int.(time), constants, subject)\n",
    "p_init = [1.35e-2, 3.80e-3, 5.82e-1, 0.00045, 0.0713, 208.88, 0.0163, 0.0119]\n",
    "p_lb = [0.005, 0, 0, 0, 0, 60., 0.005, 0]\n",
    "p_ub = [0.05, 1., 10., 1., 1., 720., 0.1, 1.]\n",
    "println(\"Initial loss for individual $(individual): $(loss(p_init))\")"
   ]
  },
  {
   "cell_type": "code",
   "execution_count": 9,
   "metadata": {},
   "outputs": [],
   "source": [
    "\n",
    "res, obj = FitModelSampledLHC(loss, 100, 5, p_lb, p_ub)"
   ]
  },
  {
   "cell_type": "code",
   "execution_count": null,
   "metadata": {},
   "outputs": [],
   "source": [
    "obj"
   ]
  },
  {
   "cell_type": "code",
   "execution_count": null,
   "metadata": {},
   "outputs": [],
   "source": [
    "outputs = simulationfunc(res[argmin(obj),:][1])\n",
    "\n",
    "glucose_data_plot = scatter(time, glc[individual,:], title=\"Glucose\", labels=\"Data\", ylabel = \"[Glucose] (mM)\")\n",
    "plot!(glucose_data_plot, outputs, idxs=2, label=\"Model\")\n",
    "insulin_data_plot = scatter(time, ins[individual,:], title=\"Insulin\", ylabel = \"[Insulin] uIU/ml\", labels=\"\")\n",
    "plot!(insulin_data_plot, outputs, idxs=4, label=\"\")\n",
    "TG_data_plot = scatter(time, trg[individual,:], title=\"Triglyceride\", ylabel = \"[TG] mM\", labels=\"\")\n",
    "plot!(TG_data_plot, outputs, idxs=13, label=\"\")\n",
    "NEFA_data_plot = scatter(time, nfa[individual,:], title=\"NEFA\", ylabel = \"[NEFA] mM\", labels=\"\")\n",
    "plot!(NEFA_data_plot, outputs, idxs=9, label=\"\")\n",
    "\n",
    "\n",
    "plot(glucose_data_plot, insulin_data_plot, TG_data_plot, NEFA_data_plot, layout=4, titlefontfamily=\"Helvetica Bold\", titlefontsize=11, xlabel=\"Time (min)\", labelfontsize=8, size=(700,450), left_margin=5mm, bottom_margin=5mm)\n",
    "\n"
   ]
  }
 ],
 "metadata": {
  "kernelspec": {
   "display_name": "Julia 1.8.5",
   "language": "julia",
   "name": "julia-1.8"
  },
  "language_info": {
   "file_extension": ".jl",
   "mimetype": "application/julia",
   "name": "julia",
   "version": "1.8.5"
  },
  "orig_nbformat": 4
 },
 "nbformat": 4,
 "nbformat_minor": 2
}
