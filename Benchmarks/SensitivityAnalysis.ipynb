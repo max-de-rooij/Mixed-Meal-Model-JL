{
 "cells": [
  {
   "cell_type": "code",
   "execution_count": 1,
   "metadata": {},
   "outputs": [
    {
     "data": {
      "text/plain": [
       "FitModelSampledLHC (generic function with 2 methods)"
      ]
     },
     "metadata": {},
     "output_type": "display_data"
    }
   ],
   "source": [
    "# Base functionality\n",
    "using Plots, Measures, Statistics\n",
    "\n",
    "# ODE Solver\n",
    "using DifferentialEquations\n",
    "\n",
    "# Benchmarking\n",
    "using BenchmarkTools\n",
    "\n",
    "include(\"../MixedMealModel.jl\")"
   ]
  },
  {
   "cell_type": "code",
   "execution_count": 2,
   "metadata": {},
   "outputs": [],
   "source": [
    "sample_person = (\n",
    "    fasting_glucose = 5.,\n",
    "    fasting_insulin = 18.,\n",
    "    fasting_triglyceride = 1.3,\n",
    "    fasting_NEFA = 0.33,\n",
    "    body_weight = 84.2,\n",
    "    meal_glucose = 75000.,\n",
    "    meal_triglyceride = 60000.\n",
    ")\n",
    "\n",
    "parameters = InitialParameters(sample_person, k1 = 0.0164, k5=0.0564, \n",
    "k6 = 2.7341, k11 = 0.00035, k12 = 0.0822, tau_LPL = 187.88, \n",
    "k14 = 0.0392, k16 = 0.0135)\n",
    "\n",
    "constants = Constants(parameters, sample_person);"
   ]
  },
  {
   "cell_type": "code",
   "execution_count": 3,
   "metadata": {},
   "outputs": [
    {
     "data": {
      "text/plain": [
       "\u001b[38;2;86;182;194mODEProblem\u001b[0m with uType \u001b[38;2;86;182;194mVector{Float64}\u001b[0m and tType \u001b[38;2;86;182;194mFloat64\u001b[0m. In-place: \u001b[38;2;86;182;194mtrue\u001b[0m\n",
       "timespan: (0.0, 720.0)\n",
       "u0: 13-element Vector{Float64}:\n",
       "  0.0\n",
       "  5.0\n",
       "  0.0\n",
       " 18.0\n",
       "  0.0\n",
       " 18.0\n",
       " 18.0\n",
       " 18.0\n",
       "  0.33\n",
       "  0.0\n",
       "  0.0\n",
       "  0.0\n",
       "  1.3"
      ]
     },
     "metadata": {},
     "output_type": "display_data"
    }
   ],
   "source": [
    "tspan::Tuple{Float64, Float64} = (0., 500.)\n",
    "u0 = InitialValues(sample_person)\n",
    "MealModel! = MixedMealModel(constants, sample_person)\n",
    "System = ODEProblem(MealModel!, u0, tspan, parameters)"
   ]
  },
  {
   "cell_type": "code",
   "execution_count": 4,
   "metadata": {},
   "outputs": [
    {
     "data": {
      "text/plain": [
       "#32 (generic function with 1 method)"
      ]
     },
     "metadata": {},
     "output_type": "display_data"
    }
   ],
   "source": [
    "fracs = range(0.5, 1.5, 50)\n",
    "\n",
    "prob_func = let p = parameters\n",
    "    (prob, i, repeat) -> begin\n",
    "        remake(prob, p = [fracs[i]*p[1]; p[2:end]])\n",
    "    end\n",
    "end"
   ]
  },
  {
   "cell_type": "code",
   "execution_count": 5,
   "metadata": {},
   "outputs": [
    {
     "data": {
      "text/plain": [
       "EnsembleProblem with problem ODEProblem"
      ]
     },
     "metadata": {},
     "output_type": "display_data"
    }
   ],
   "source": [
    "ensemble_prob = EnsembleProblem(System, prob_func = prob_func)"
   ]
  },
  {
   "cell_type": "code",
   "execution_count": 8,
   "metadata": {},
   "outputs": [
    {
     "data": {
      "text/plain": [
       "BenchmarkTools.Trial: 100 samples with 1 evaluation.\n",
       " Range \u001b[90m(\u001b[39m\u001b[36m\u001b[1mmin\u001b[22m\u001b[39m … \u001b[35mmax\u001b[39m\u001b[90m):  \u001b[39m\u001b[36m\u001b[1m1.312 ms\u001b[22m\u001b[39m … \u001b[35m 1.779 ms\u001b[39m  \u001b[90m┊\u001b[39m GC \u001b[90m(\u001b[39mmin … max\u001b[90m): \u001b[39m0.00% … 0.00%\n",
       " Time  \u001b[90m(\u001b[39m\u001b[34m\u001b[1mmedian\u001b[22m\u001b[39m\u001b[90m):     \u001b[39m\u001b[34m\u001b[1m1.485 ms              \u001b[22m\u001b[39m\u001b[90m┊\u001b[39m GC \u001b[90m(\u001b[39mmedian\u001b[90m):    \u001b[39m0.00%\n",
       " Time  \u001b[90m(\u001b[39m\u001b[32m\u001b[1mmean\u001b[22m\u001b[39m ± \u001b[32mσ\u001b[39m\u001b[90m):   \u001b[39m\u001b[32m\u001b[1m1.494 ms\u001b[22m\u001b[39m ± \u001b[32m96.475 μs\u001b[39m  \u001b[90m┊\u001b[39m GC \u001b[90m(\u001b[39mmean ± σ\u001b[90m):  \u001b[39m0.00% ± 0.00%\n",
       "\n",
       "  \u001b[39m \u001b[39m \u001b[39m \u001b[39m \u001b[39m \u001b[39m \u001b[39m \u001b[39m \u001b[39m \u001b[39m \u001b[39m \u001b[39m \u001b[39m \u001b[39m \u001b[39m▂\u001b[39m▄\u001b[39m▆\u001b[39m \u001b[39m \u001b[39m \u001b[39m \u001b[39m▂\u001b[34m \u001b[39m\u001b[39m \u001b[32m▄\u001b[39m\u001b[39m \u001b[39m \u001b[39m \u001b[39m█\u001b[39m \u001b[39m \u001b[39m \u001b[39m \u001b[39m▂\u001b[39m \u001b[39m \u001b[39m \u001b[39m \u001b[39m \u001b[39m \u001b[39m \u001b[39m \u001b[39m \u001b[39m \u001b[39m \u001b[39m \u001b[39m \u001b[39m \u001b[39m \u001b[39m \u001b[39m \u001b[39m \u001b[39m \u001b[39m \u001b[39m \u001b[39m \u001b[39m \u001b[39m \u001b[39m \u001b[39m \n",
       "  \u001b[39m▄\u001b[39m▄\u001b[39m▁\u001b[39m▆\u001b[39m▆\u001b[39m▄\u001b[39m▁\u001b[39m█\u001b[39m█\u001b[39m▄\u001b[39m▆\u001b[39m▄\u001b[39m▆\u001b[39m▆\u001b[39m█\u001b[39m█\u001b[39m█\u001b[39m▆\u001b[39m█\u001b[39m▄\u001b[39m█\u001b[39m█\u001b[34m▆\u001b[39m\u001b[39m█\u001b[32m█\u001b[39m\u001b[39m▆\u001b[39m▁\u001b[39m▄\u001b[39m█\u001b[39m█\u001b[39m▆\u001b[39m▄\u001b[39m▄\u001b[39m█\u001b[39m▁\u001b[39m█\u001b[39m▆\u001b[39m▆\u001b[39m▆\u001b[39m▄\u001b[39m█\u001b[39m▁\u001b[39m▁\u001b[39m▁\u001b[39m▄\u001b[39m▁\u001b[39m▄\u001b[39m▄\u001b[39m▄\u001b[39m▄\u001b[39m▁\u001b[39m▁\u001b[39m▁\u001b[39m▁\u001b[39m▁\u001b[39m▁\u001b[39m▁\u001b[39m▄\u001b[39m \u001b[39m▄\n",
       "  1.31 ms\u001b[90m        Histogram: frequency by time\u001b[39m        1.76 ms \u001b[0m\u001b[1m<\u001b[22m\n",
       "\n",
       " Memory estimate\u001b[90m: \u001b[39m\u001b[33m7.41 MiB\u001b[39m, allocs estimate\u001b[90m: \u001b[39m\u001b[33m49078\u001b[39m."
      ]
     },
     "metadata": {},
     "output_type": "display_data"
    }
   ],
   "source": [
    "BenchmarkResult = @benchmark solve(ensemble_prob, Tsit5(), EnsembleThreads(), trajectories = 50) samples=100 seconds=10"
   ]
  }
 ],
 "metadata": {
  "kernelspec": {
   "display_name": "Julia 1.8.5",
   "language": "julia",
   "name": "julia-1.8"
  },
  "language_info": {
   "file_extension": ".jl",
   "mimetype": "application/julia",
   "name": "julia",
   "version": "1.8.5"
  },
  "orig_nbformat": 4
 },
 "nbformat": 4,
 "nbformat_minor": 2
}
