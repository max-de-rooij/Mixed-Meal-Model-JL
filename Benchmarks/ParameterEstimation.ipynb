{
 "cells": [
  {
   "cell_type": "code",
   "execution_count": 1,
   "metadata": {},
   "outputs": [],
   "source": [
    "using Distributed; addprocs(5, exeflags=\"--project\")\n",
    "using DelimitedFiles"
   ]
  },
  {
   "cell_type": "code",
   "execution_count": 2,
   "metadata": {},
   "outputs": [],
   "source": [
    "# Base functionality\n",
    "@everywhere begin\n",
    "    using Plots, Measures, Statistics\n",
    "\n",
    "    # ODE Solver\n",
    "    using DifferentialEquations\n",
    "\n",
    "    # Benchmarking\n",
    "    using BenchmarkTools\n",
    "\n",
    "    include(\"../MixedMealModel.jl\")\n",
    "end"
   ]
  },
  {
   "cell_type": "code",
   "execution_count": 3,
   "metadata": {},
   "outputs": [],
   "source": [
    "@everywhere function fit_individual(individual)\n",
    "    glc, ins, trg, nfa, bwg, time = SampleData()\n",
    "    model, constants, subject = ModelFromData(glc[individual,:], ins[individual,:], trg[individual,:], nfa[individual,:], bwg[individual])\n",
    "    loss, simulationfunc = LossFunction(model, glc[individual,:], ins[individual,:], trg[individual,:], nfa[individual,:], Int.(time), constants, subject)\n",
    "    #p_init = [1.35e-2, 3.80e-3, 5.82e-1, 0.00045, 0.0713, 208.88, 0.0163, 0.0119]\n",
    "    p_lb = [0.005, 0, 0, 0, 0, 60., 0.005, 0]\n",
    "    p_ub = [0.05, 1., 10., 1., 1., 720., 0.1, 1.]\n",
    "    println(\"Fitting individual $(individual)\")\n",
    "    #println(\"Initial loss for individual $(individual): $(loss(p_init))\")\n",
    "    res, obj = FitModelLHC(loss, 5, p_lb, p_ub)\n",
    "    return res, obj\n",
    "end"
   ]
  },
  {
   "cell_type": "code",
   "execution_count": 4,
   "metadata": {},
   "outputs": [],
   "source": [
    "@everywhere function FitAllIndividuals()\n",
    "    @sync @distributed for i = 1:5\n",
    "        fit_individual(i)\n",
    "    end\n",
    "end\n"
   ]
  },
  {
   "cell_type": "code",
   "execution_count": 5,
   "metadata": {},
   "outputs": [
    {
     "name": "stdout",
     "output_type": "stream",
     "text": [
      "      From worker 4:\tFitting individual 3\n",
      "      From worker 6:\tFitting individual 5\n",
      "      From worker 5:\tFitting individual 4\n",
      "      From worker 2:\tFitting individual 1\n",
      "      From worker 3:\tFitting individual 2\n"
     ]
    },
    {
     "name": "stdout",
     "output_type": "stream",
     "text": [
      "      From worker 3:\tOptimization Failed... Resampling...\n"
     ]
    },
    {
     "name": "stdout",
     "output_type": "stream",
     "text": [
      "      From worker 5:\tFitting individual 4\n",
      "      From worker 2:\tFitting individual 1\n",
      "      From worker 4:\tFitting individual 3\n",
      "      From worker 6:\tFitting individual 5\n",
      "      From worker 3:\tFitting individual 2\n"
     ]
    },
    {
     "name": "stdout",
     "output_type": "stream",
     "text": [
      "      From worker 2:\tFitting individual 1\n",
      "      From worker 5:\tFitting individual 4\n",
      "      From worker 3:\tFitting individual 2\n",
      "      From worker 4:\tFitting individual 3\n",
      "      From worker 6:\tFitting individual 5\n"
     ]
    }
   ],
   "source": [
    "BenchmarkResult = @benchmark FitAllIndividuals() samples=100 seconds=60*60*3"
   ]
  },
  {
   "cell_type": "code",
   "execution_count": null,
   "metadata": {},
   "outputs": [],
   "source": [
    "BenchmarkResult"
   ]
  },
  {
   "cell_type": "code",
   "execution_count": null,
   "metadata": {},
   "outputs": [],
   "source": [
    "open(\"Windows_ShitMachine_Benchmark_ParamEstim.txt\", \"w+\") do io\n",
    "    writedlm(io, BenchmarkResult.times)\n",
    "end"
   ]
  }
 ],
 "metadata": {
  "kernelspec": {
   "display_name": "Julia 1.8.4",
   "language": "julia",
   "name": "julia-1.8"
  },
  "language_info": {
   "file_extension": ".jl",
   "mimetype": "application/julia",
   "name": "julia",
   "version": "1.8.4"
  },
  "orig_nbformat": 4
 },
 "nbformat": 4,
 "nbformat_minor": 2
}
